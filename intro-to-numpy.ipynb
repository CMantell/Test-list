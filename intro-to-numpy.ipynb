{
 "cells": [
  {
   "cell_type": "code",
   "execution_count": 1,
   "metadata": {
    "collapsed": true
   },
   "outputs": [],
   "source": [
    "#pre-run\n",
    "import re"
   ]
  },
  {
   "cell_type": "markdown",
   "metadata": {},
   "source": [
    "<!-- TITLE 1 -->\n",
    "## 1D NumPy Arrays"
   ]
  },
  {
   "cell_type": "markdown",
   "metadata": {},
   "source": [
    "<!-- CONCEPT 1 -->\n",
    "When you're manipulating data, you often need to perform operations on every element in a collection. To do this with a list, you'd need to write a loop that iterates over every element, but with the <span class=\"girk\">ndarray</span> datatype from the <span class=\"girk\">NumPy</span> (Numerical Python) library it's possible to perform element-wise operations without iteration."
   ]
  },
  {
   "cell_type": "markdown",
   "metadata": {},
   "source": [
    "If you tried to add two lists together using a <span class=\"girk\">+</span>, one list would simply be appended to the end of the other. Adding two <span class=\"girk\">NumPy</span> arrays, however, would actually sum elements at corresponding index positions pair by pair."
   ]
  },
  {
   "cell_type": "markdown",
   "metadata": {},
   "source": [
    "\n",
    "\n",
    "\n",
    "You can create an array by inputting a <span class=\"girk\">list</span> into the <span class=\"girk\">np.array()</span> function."
   ]
  },
  {
   "cell_type": "code",
   "execution_count": null,
   "metadata": {
    "collapsed": true
   },
   "outputs": [],
   "source": [
    "## STARTER CODE for 1\n",
    "import numpy as np\n",
    "hours_list = [38.5, 40, 35.0, 40, 25, 41.5, 45]"
   ]
  },
  {
   "cell_type": "code",
   "execution_count": 3,
   "metadata": {},
   "outputs": [
    {
     "data": {
      "text/plain": [
       "{numpy.float64}"
      ]
     },
     "execution_count": 3,
     "metadata": {},
     "output_type": "execute_result"
    }
   ],
   "source": [
    "## SOLUTION CODE for 1\n",
    "import numpy as np\n",
    "hours_list = [38.5, 40, 35.0, 40, 25, 41.5, 45]\n",
    "hours_array = np.array(hours_list)\n",
    "type(hours_array)\n",
    "set([type(x) for x in hours_list])\n",
    "set([type(x) for x in hours_array])"
   ]
  },
  {
   "cell_type": "markdown",
   "metadata": {},
   "source": [
    "<!-- TASK 1.1 -->\n",
    "Create a Numpy array from <span class=\"girk\">hours_list</span> the using the <span class=\"girk\">array()</span> function. Assign the output to the variable <span class=\"girk\">hours_array</span>."
   ]
  },
  {
   "cell_type": "markdown",
   "metadata": {},
   "source": [
    "<!-- HINT 1.1 -->\n",
    "You can create <span class=\"girk\">hours_array</span> by inputting <span class=\"girk\">hours_list</span> into the function <span class=\"girk\">np.array()</span>."
   ]
  },
  {
   "cell_type": "code",
   "execution_count": 3,
   "metadata": {},
   "outputs": [
    {
     "name": "stdout",
     "output_type": "stream",
     "text": [
      "K44: Great job!\n"
     ]
    }
   ],
   "source": [
    "## TEST 1.1\n",
    "try:\n",
    "    hours_array, \"Please assign a value to the variable hours_array.\"\n",
    "    assert isinstance(hours_array, np.ndarray), \"Use the np.array() function to make hours_array a NumPy array.\"\n",
    "    assert len(hours_array) == 7, \"hours_array should have the same number of elements as hours_list.\"\n",
    "    assert np.max(hours_array) == 45.0 and np.min(hours_array) == 25.0, \"Input hours_list into the array() function to generate hours_array.\"\n",
    "    print(\"K44: Great job!\")\n",
    "except (AssertionError, NameError) as e:\n",
    "    print(e.args[0])"
   ]
  },
  {
   "cell_type": "markdown",
   "metadata": {},
   "source": [
    "<span class=\"girk\">NumPy</span> arrays differ from lists in that they can consist of multiple dimensions like a matrix, but they are limited to a single data type. If you attempt to create an array of multiple types, the elements will be coerced to a single type, often <span class=\"girk\">string</span>. "
   ]
  },
  {
   "cell_type": "markdown",
   "metadata": {},
   "source": [
    "<!-- TASK 1.2 -->\n",
    "Check the type of <span class=\"girk\">hours_array</span> to confirm that it's of type <span class=\"girk\">numpy.ndarray</span>."
   ]
  },
  {
   "cell_type": "markdown",
   "metadata": {},
   "source": [
    "<!-- HINT 1.2 -->\n",
    "You can check type using the <span class=\"girk\">type()</span> function."
   ]
  },
  {
   "cell_type": "code",
   "execution_count": 5,
   "metadata": {},
   "outputs": [
    {
     "name": "stdout",
     "output_type": "stream",
     "text": [
      "K44: Good! The type ndarray stands for n-dimensional array.\n"
     ]
    }
   ],
   "source": [
    "## TEST 1.2\n",
    "search = re.search(\"type\\(hours_array\", In[2])\n",
    "if not search:\n",
    "    print(\"Check the type of hours_array.\")\n",
    "else:\n",
    "    print(\"K44: Good! The type ndarray stands for n-dimensional array.\")"
   ]
  },
  {
   "cell_type": "markdown",
   "metadata": {},
   "source": [
    "<!-- TASK 1.3 -->\n",
    "Check the data types in hours_list by running the following line of code: <span class=\"girk\">set([type(x) for x in hours_list])</span>\n",
    "\n",
    "<!-- TASK 1.4 -->\n",
    "Now, check the data types in hours_array by running this line of code: <span class=\"girk\">set([type(x) for x in hours_array])</span>."
   ]
  },
  {
   "cell_type": "markdown",
   "metadata": {},
   "source": [
    "<!-- HINT 1.3 -->\n",
    "Run <span class=\"girk\">set([type(x) for x in hours_list])</span> to see the datatypes contained in <span class=\"girk\">hours_list</span>. (You should see <span class=\"girk\">float</span> and <span class=\"girk\">int</span>."
   ]
  },
  {
   "cell_type": "code",
   "execution_count": 41,
   "metadata": {},
   "outputs": [
    {
     "name": "stdout",
     "output_type": "stream",
     "text": [
      "K44: Very good. You can see that hours_list contains both floats and integers.\n"
     ]
    }
   ],
   "source": [
    "## TEST 1.3\n",
    "search = re.search(\"set\\(\\[\\s*?type\\(\\s*?x\\s*?\\)\\s+?for\\s+?x\\s+?in\\s+?hours_list\", In[32])\n",
    "if not search:\n",
    "    print(\"Run the given code to see the data types contained in hours_list.\")\n",
    "else:\n",
    "    print(\"K44: Very good. You can see that hours_list contains both floats and integers.\")"
   ]
  },
  {
   "cell_type": "markdown",
   "metadata": {},
   "source": [
    "<!-- HINT 1.4 -->\n",
    "Run <span class=\"girk\">set([type(x) for x in hours_array])</span>."
   ]
  },
  {
   "cell_type": "code",
   "execution_count": 43,
   "metadata": {},
   "outputs": [
    {
     "name": "stdout",
     "output_type": "stream",
     "text": [
      "Run the given code to see the data types contained in hours_array.\n"
     ]
    }
   ],
   "source": [
    "## TEST 1.4\n",
    "search = re.search(\"set\\(\\[\\s*?type\\(\\s*?x\\s*?\\)\\s+?for\\s+?x\\s+?in\\s+?hours_array\", In[32])\n",
    "if not search:\n",
    "    print(\"Run the given code to see the data types contained in hours_array.\")\n",
    "else:\n",
    "    print(\"K44: Very good. You can see that hours_array contains only elements of type numpy.float64.\")"
   ]
  },
  {
   "cell_type": "markdown",
   "metadata": {},
   "source": [
    "<!-- Info -->\n",
    "You can see that hours_list contains both floats and integers."
   ]
  },
  {
   "cell_type": "markdown",
   "metadata": {},
   "source": [
    "<!-- TITLE 2 -->\n",
    "## Arithmetic with NumPy Arrays"
   ]
  },
  {
   "cell_type": "markdown",
   "metadata": {},
   "source": [
    "<!-- CONCEPT 2 -->\n",
    "The main benefit of storing data in a <span class=\"girk\">NumPy</span> <span class=\"girk\">ndarray</span> is the ease of performing element-wise calculations, such as addition, subtraction, multiplication, division, or modular division. "
   ]
  },
  {
   "cell_type": "markdown",
   "metadata": {},
   "source": [
    "Given <span class=\"girk\">hours_array</span>, which contains number of hours worked in a week for seven employees and <span class=\"girk\">pay_array</span>, which contains each employee's hourly rate, it's easy to multiply the hours worked by the pay rate to determine each worker's total earnings. You can also add or subtract a value from each element of <span class=\"girk\">pay_array</span> to reflect adjustments in pay rate."
   ]
  },
  {
   "cell_type": "code",
   "execution_count": 19,
   "metadata": {
    "collapsed": true
   },
   "outputs": [],
   "source": [
    "## STARTER CODE for 2\n",
    "hours_array = np.array([ 38.5,  40. ,  35. ,  40. ,  25. ,  41.5,  45. ])\n",
    "pay_array = np.array([18.00, 19.25, 18.00, 19.25, 22.50, 18.50, 20.25])"
   ]
  },
  {
   "cell_type": "code",
   "execution_count": 3,
   "metadata": {
    "collapsed": true
   },
   "outputs": [],
   "source": [
    "## SOLUTION CODE for 2\n",
    "hours_array = np.array([ 38.5,  40. ,  35. ,  40. ,  25. ,  41.5,  45. ])\n",
    "pay_array = np.array([18.00, 19.25, 18.00, 19.25, 22.50, 18.50, 20.25]) + 1.50\n",
    "earnings_array = hours_array * pay_array \n",
    "withholdings = earnings_array * 0.062"
   ]
  },
  {
   "cell_type": "markdown",
   "metadata": {},
   "source": [
    "<!-- TASK 2.1 -->\n",
    "Create a new array called <span class=\"girk\">earnings_array</span> that represents the earnings for each worker by multiplying <span class=\"girk\">hours_array</span> and <span class=\"girk\">pay_array</span>. Print it out to check the values."
   ]
  },
  {
   "cell_type": "markdown",
   "metadata": {},
   "source": [
    "<!-- HINT 2.1 -->\n",
    "You can create <span class=\"girk\">earnings_array</span> with the following operation: <span class=\"girk\">hours_array * pay_array</span>."
   ]
  },
  {
   "cell_type": "code",
   "execution_count": 10,
   "metadata": {},
   "outputs": [
    {
     "name": "stdout",
     "output_type": "stream",
     "text": [
      "name 'earnings_array' is not defined\n"
     ]
    }
   ],
   "source": [
    "## TEST 2.1\n",
    "try:\n",
    "    earnings_array\n",
    "    assert isinstance(earnings_array, np.ndarray), \"Create earnings_array, a new NumPy array.\"\n",
    "    assert max(earnings_array) == 911.25, \"earnings_array must be the product of pay_array and hours_array.\"\n",
    "    print(\"K44: Very good!\")\n",
    "except (AssertionError, NameError) as e:\n",
    "    print(e.args[0])"
   ]
  },
  {
   "cell_type": "markdown",
   "metadata": {},
   "source": [
    "<!-- TASK 2.2 -->\n",
    "Recalculate the values of <span class=\"girk\">pay_array</span> to reflect a $1.50 hourly raise for each employee. Print out the array to check that it worked the way you'd expect."
   ]
  },
  {
   "cell_type": "markdown",
   "metadata": {},
   "source": [
    "<!-- HINT 2.2 -->\n",
    "You can add $1.50 to each element of pay_array like this: <span class=\"girk\">pay_array = np.array([18.00, 19.25, 18.00, 19.25, 22.50, 18.50, 20.25]) + 1.50</span>."
   ]
  },
  {
   "cell_type": "code",
   "execution_count": 5,
   "metadata": {},
   "outputs": [
    {
     "name": "stdout",
     "output_type": "stream",
     "text": [
      "K44: Great job! You should notice that each element of the array has increased by 1.5.\n"
     ]
    }
   ],
   "source": [
    "## TEST 2.2\n",
    "try:\n",
    "    pay_array\n",
    "    assert not max(pay_array) == 33.75, \"Use addition to increase each hourly wage by $1.50.\" \n",
    "    assert max(pay_array) == 24.0, \"It doesn't look like you calculated the raise correctly.\"\n",
    "    print(\"K44: Great job! You should notice that each element of the array has increased by 1.5.\")\n",
    "except (AssertionError, NameError) as e:\n",
    "    print(e.args[0])"
   ]
  },
  {
   "cell_type": "markdown",
   "metadata": {},
   "source": [
    "<!-- TASK 2.3 -->\n",
    "Calculate how many dollars are withheld from each employee's pay in <span class=\"girk\">earnings_array</span> given a 6.2% Social Security tax rate. Save the values in a new array called <span class=\"girk\">withholdings</span>."
   ]
  },
  {
   "cell_type": "markdown",
   "metadata": {},
   "source": [
    "<!-- HINT 2.3 -->\n",
    "You can create the <span class=\"girk\">withholdings</span> array by multiplying <span class=\"girk\">earnings_array</span> by 0.062."
   ]
  },
  {
   "cell_type": "code",
   "execution_count": 4,
   "metadata": {},
   "outputs": [
    {
     "ename": "IndexError",
     "evalue": "list index out of range",
     "output_type": "error",
     "traceback": [
      "\u001b[0;31m---------------------------------------------------------------------------\u001b[0m",
      "\u001b[0;31mIndexError\u001b[0m                                Traceback (most recent call last)",
      "\u001b[0;32m<ipython-input-4-4557282f58aa>\u001b[0m in \u001b[0;36m<module>\u001b[0;34m()\u001b[0m\n\u001b[1;32m      1\u001b[0m \u001b[0;31m## TEST 2.3\u001b[0m\u001b[0;34m\u001b[0m\u001b[0;34m\u001b[0m\u001b[0m\n\u001b[0;32m----> 2\u001b[0;31m \u001b[0msearch\u001b[0m \u001b[0;34m=\u001b[0m \u001b[0mre\u001b[0m\u001b[0;34m.\u001b[0m\u001b[0msearch\u001b[0m\u001b[0;34m(\u001b[0m\u001b[0;34m\"witholdings\"\u001b[0m\u001b[0;34m,\u001b[0m \u001b[0mIn\u001b[0m\u001b[0;34m[\u001b[0m\u001b[0;36m5\u001b[0m\u001b[0;34m]\u001b[0m\u001b[0;34m)\u001b[0m\u001b[0;34m\u001b[0m\u001b[0m\n\u001b[0m\u001b[1;32m      3\u001b[0m \u001b[0;32mif\u001b[0m \u001b[0msearch\u001b[0m\u001b[0;34m:\u001b[0m\u001b[0;34m\u001b[0m\u001b[0m\n\u001b[1;32m      4\u001b[0m     \u001b[0mprint\u001b[0m\u001b[0;34m(\u001b[0m\u001b[0;34m\"Built-in spelling lesson: withholdings has 2 h's!\\n\"\u001b[0m\u001b[0;34m)\u001b[0m\u001b[0;34m\u001b[0m\u001b[0m\n\u001b[1;32m      5\u001b[0m \u001b[0;32mtry\u001b[0m\u001b[0;34m:\u001b[0m\u001b[0;34m\u001b[0m\u001b[0m\n",
      "\u001b[0;31mIndexError\u001b[0m: list index out of range"
     ]
    }
   ],
   "source": [
    "## TEST 2.3\n",
    "search = re.search(\"witholdings\", In[5])\n",
    "if search:\n",
    "    print(\"Built-in spelling lesson: withholdings has 2 h's!\\n\")\n",
    "try:\n",
    "    withholdings\n",
    "    assert isinstance(withholdings, np.ndarray), \"Create the withholdings array.\"\n",
    "    assert (max(withholdings) == 60.682499999999997 and min(withholdings) == 37.200000000000003) or (min(withholdings) == 34.875 and max(withholdings) ==56.497500000000002), \"Double check your math for withholdings.\"\n",
    "    print(\"K44: Excellent.\")\n",
    "except (AssertionError, NameError) as e:\n",
    "    print(e.args[0])"
   ]
  },
  {
   "cell_type": "markdown",
   "metadata": {},
   "source": [
    "<!-- TITLE 3 -->\n",
    "## 2D NumPy Arrays"
   ]
  },
  {
   "cell_type": "markdown",
   "metadata": {},
   "source": [
    "<!-- CONCEPT 3 -->\n",
    "The \"nd\" in the name <span class=\"girk\">ndarray</span> type stands for \"n-dimensional\". You just worked only with some one-dimensional arrays, but it's possible to create arrays in as many dimensions as you want (though we'll stick to two in this lesson)."
   ]
  },
  {
   "cell_type": "markdown",
   "metadata": {},
   "source": [
    "You can think of a two-dimensional array as a list of lists, where each sublist represents a row."
   ]
  },
  {
   "cell_type": "markdown",
   "metadata": {},
   "source": [
    " Two-dimensional arrays can still contain only a single data type, but you can perform the element-wise operations in the same way you did for one-dimensional arrays. "
   ]
  },
  {
   "cell_type": "markdown",
   "metadata": {},
   "source": [
    "You can create two-dimensional arrays by inputting a list of lists into the <span class=\"girk\">array()</span> function, or by using the <span class=\"girk\">column_stack()</span> function to add one-dimensional arrays as columns in an n-dimensional array."
   ]
  },
  {
   "cell_type": "code",
   "execution_count": 76,
   "metadata": {},
   "outputs": [
    {
     "data": {
      "text/plain": [
       "(7,)"
      ]
     },
     "execution_count": 76,
     "metadata": {},
     "output_type": "execute_result"
    }
   ],
   "source": [
    "## STARTER CODE for 3\n",
    "hours_array = np.array([ 38.5,  40. ,  35. ,  40. ,  25. ,  41.5,  45. ])\n",
    "pay_array = np.array([18.00, 19.25, 18.00, 19.25, 22.50, 18.50, 20.25])"
   ]
  },
  {
   "cell_type": "code",
   "execution_count": 5,
   "metadata": {
    "collapsed": true
   },
   "outputs": [],
   "source": [
    "## SOLUTION CODE for 3\n",
    "hours_array = np.array([ 38.5,  40. ,  35. ,  40. ,  25. ,  41.5,  45. ])\n",
    "pay_array = np.array([18.00, 19.25, 18.00, 19.25, 22.50, 18.50, 20.25])\n",
    "\n",
    "hours_array.shape\n",
    "pay_array.shape\n",
    "\n",
    "payroll = np.column_stack((hours_array, pay_array))\n",
    "payroll.shape\n",
    "\n",
    "my_array = np.array([[\"Harry Potter\", \"Ron Weasley\"], [\"Frodo\", \"Samwise\"], [\"Jon Snow\", \"Sam\"]])"
   ]
  },
  {
   "cell_type": "markdown",
   "metadata": {},
   "source": [
    "<!-- TASK 3.1 -->\n",
    "Check the dimensions of hours_array and pay_array by viewing the <span class=\"girk\">.shape</span> attribute of each of them."
   ]
  },
  {
   "cell_type": "markdown",
   "metadata": {},
   "source": [
    "<!-- HINT 3.1 -->\n",
    "You can print <span class=\"girk\">pay_array.shape</span> and <span class=\"girk\">hours_array.shape</span> to confirm that each one is one-dimensional."
   ]
  },
  {
   "cell_type": "code",
   "execution_count": 85,
   "metadata": {},
   "outputs": [
    {
     "name": "stdout",
     "output_type": "stream",
     "text": [
      "Use the .shape attribute to check the dimensions of pay_array and hours_array.\n"
     ]
    }
   ],
   "source": [
    "## TEST 3.1\n",
    "search1 = re.search(\"pay_array.shape\", In[84])\n",
    "search2 = re.search(\"hours_array.shape\", In[84])\n",
    "if not (search1 or search2):\n",
    "    print(\"Use the .shape attribute to check the dimensions of pay_array and hours_array.\")\n",
    "if search1 or search2:\n",
    "    print(\"K44: Great! You can see that each array contains seven elements, which will correspond to seven rows in a 2d array.\")"
   ]
  },
  {
   "cell_type": "markdown",
   "metadata": {},
   "source": [
    "<!-- TASK 3.2 -->\n",
    "The <span class=\"girk\">column_stack()</span> function takes a tuple of arrays as input. Use <span class=\"girk\">column_stack()</span> to create a two-dimensional array composed of <span class=\"girk\">hours_array</span> and <span class=\"girk\">pay_array</span>. Assign the output to the variable <span class=\"girk\">payroll</span>."
   ]
  },
  {
   "cell_type": "markdown",
   "metadata": {},
   "source": [
    "<!-- HINT 3.2 -->\n",
    "You can create the <span class=\"girk\">payroll</span> array like this: <span class=\"girk\">np.column_stack((hours_array, pay_array))</span>. Print it out to check its contents."
   ]
  },
  {
   "cell_type": "code",
   "execution_count": 6,
   "metadata": {},
   "outputs": [
    {
     "name": "stdout",
     "output_type": "stream",
     "text": [
      "K44: Excellent work!\n"
     ]
    }
   ],
   "source": [
    "## TEST 3.2\n",
    "try:\n",
    "    payroll\n",
    "    assert isinstance(payroll, np.ndarray)\n",
    "    assert not payroll.shape == (7, 1), \"The payroll array must have two columns, not just one.\"\n",
    "    assert payroll.shape == (7, 2), \"It doesn't look like you created payroll correctly.\"\n",
    "    assert not payroll[0][0] == payroll[0][1], \"Careful! Don't stack the same column twice.\"\n",
    "    assert not payroll[0][0] == 18. and not payroll[0][0] == 19.5, \"Change the order of pay_array and hours_array in the input tuple for the column_stack() function.\"\n",
    "    print(\"K44: Excellent work!\")\n",
    "except (AssertionError, NameError) as e:\n",
    "    print(e.args[0])"
   ]
  },
  {
   "cell_type": "markdown",
   "metadata": {},
   "source": [
    "<!-- TASK 3.3 -->\n",
    "Check the shape of the <span class=\"girk\">payroll</span> array."
   ]
  },
  {
   "cell_type": "markdown",
   "metadata": {},
   "source": [
    "<!-- HINT 3.3 -->\n",
    "Use the <span class=\"girk\">.shape</span> attribute."
   ]
  },
  {
   "cell_type": "code",
   "execution_count": 94,
   "metadata": {},
   "outputs": [
    {
     "name": "stdout",
     "output_type": "stream",
     "text": [
      "K44: Good. You can see that the array has 7 rows and 2 columns.\n"
     ]
    }
   ],
   "source": [
    "## TEST 3.3\n",
    "search = re.search(\"payroll.shape\", In[93])\n",
    "if not search:\n",
    "    print(\"Check the shape of the payroll array.\")\n",
    "else:\n",
    "    print(\"K44: Good. You can see that the array has 7 rows and 2 columns.\")"
   ]
  },
  {
   "cell_type": "markdown",
   "metadata": {},
   "source": [
    "<!-- TASK 3.4 -->\n",
    "Create a new two-dimensional array by inputting a list of lists to the <span class=\"girk\">array()</span> function.\n",
    "The contents of each list can be whatever you like, but remember that an array can only contain one data type. Call the array <span class=\"girk\">my_array</span>."
   ]
  },
  {
   "cell_type": "markdown",
   "metadata": {},
   "source": [
    "<!-- HINT 3.4 -->\n",
    "You can create an array like this: <span class=\"girk\">my_array = [[1,2,3], [4,5,6], [7,8,9]]</span>. Each sublist will become a row."
   ]
  },
  {
   "cell_type": "code",
   "execution_count": 16,
   "metadata": {},
   "outputs": [
    {
     "name": "stdout",
     "output_type": "stream",
     "text": [
      "K44: Cool! What a lovely array.\n"
     ]
    }
   ],
   "source": [
    "## TEST 3.4\n",
    "try:\n",
    "    my_array\n",
    "    assert isinstance(my_array, np.ndarray), \"Create a NumPy array called my_array.\"\n",
    "    assert not len(my_array.shape) == 1, \"Make my_array have at least two dimensions.\"\n",
    "    print(\"K44: Cool! What a lovely array.\")\n",
    "except (AssertionError, NameError) as e:\n",
    "    print(e.args[0])"
   ]
  },
  {
   "cell_type": "markdown",
   "metadata": {},
   "source": [
    "<!-- TASK 3.5 -->\n",
    "Print the shape of my_array to confirm that it is not one-dimensional."
   ]
  },
  {
   "cell_type": "markdown",
   "metadata": {},
   "source": [
    "<!-- HINT 3.5 -->\n",
    "Use <span class=\"girk\">my_array.shape</span>."
   ]
  },
  {
   "cell_type": "code",
   "execution_count": 7,
   "metadata": {},
   "outputs": [
    {
     "name": "stdout",
     "output_type": "stream",
     "text": [
      "Check the shape of my_array.\n"
     ]
    }
   ],
   "source": [
    "## TEST 3.5\n",
    "search = re.search(\"my_array.shape\", In[4])\n",
    "if not search:\n",
    "    print(\"Check the shape of my_array.\")\n",
    "else:\n",
    "    print(\"K44: That's right!\")"
   ]
  },
  {
   "cell_type": "markdown",
   "metadata": {},
   "source": [
    "<!-- TITLE for 4 -->\n",
    "## Basic Indexing for Arrays"
   ]
  },
  {
   "cell_type": "markdown",
   "metadata": {},
   "source": [
    "<!-- CONCEPT for 4 -->\n",
    "You've probably used square brackets (<span class=\"girk\">[]</span>) to select individual elements by index in a list. Fortunately, indexing of NumPy arrays works basically the same way. You can select elements or ranges of elements from a one-dimensional array as if it were a list.\n",
    "\n",
    "However, to select a particular element of a two-dimensional array, you'll need two sets of brackets. You select a particular row in the first pair of brackets, and then the index of an element within that row (essentially, the column), using a second pair. For instance, <span class=\"girk\">my_array[0][2]</span> will produce the third element of the first row of an array. Remember that the indices are always specified row first, then column. Alternatively, you could access that same element like this: <span class=\"girk\">my_array[0,2]</span>, with the row and column indices separated by a comma."
   ]
  },
  {
   "cell_type": "code",
   "execution_count": null,
   "metadata": {
    "collapsed": true
   },
   "outputs": [],
   "source": [
    "## STARTER CODE for 4\n",
    "hours_array = np.array([ 38.5,  40. ,  35. ,  40. ,  25. ,  41.5,  45. ])\n",
    "pay_array = np.array([18.00, 19.25, 18.00, 19.25, 22.50, 18.50, 20.25])\n",
    "\n",
    "payroll = np.array([[ 38.5 ,  18.  ],\n",
    "                   [ 40.  ,  19.25],\n",
    "                   [ 35.  ,  18.  ],\n",
    "                   [ 40.  ,  19.25],\n",
    "                   [ 25.  ,  22.5 ],\n",
    "                   [ 41.5 ,  18.5 ],\n",
    "                   [ 45.  ,  20.25]])"
   ]
  },
  {
   "cell_type": "code",
   "execution_count": 21,
   "metadata": {},
   "outputs": [
    {
     "data": {
      "text/plain": [
       "18.0"
      ]
     },
     "execution_count": 21,
     "metadata": {},
     "output_type": "execute_result"
    }
   ],
   "source": [
    "## SOLUTION for 4\n",
    "hours_array = np.array([ 38.5,  40. ,  35. ,  40. ,  25. ,  41.5,  45. ])\n",
    "pay_array = np.array([18.00, 19.25, 18.00, 19.25, 22.50, 18.50, 20.25])\n",
    "\n",
    "payroll = np.array([[ 38.5 ,  18.  ],\n",
    "                   [ 40.  ,  19.25],\n",
    "                   [ 35.  ,  18.  ],\n",
    "                   [ 40.  ,  19.25],\n",
    "                   [ 25.  ,  22.5 ],\n",
    "                   [ 41.5 ,  18.5 ],\n",
    "                   [ 45.  ,  20.25]])\n",
    "hours_array[0]\n",
    "payroll[0]\n",
    "payroll[0,0]\n",
    "payroll[2,1]"
   ]
  },
  {
   "cell_type": "markdown",
   "metadata": {},
   "source": [
    "<!-- TASK 4.1 -->\n",
    "Print the first element of the <span class=\"girk\">hours_array</span>."
   ]
  },
  {
   "cell_type": "markdown",
   "metadata": {},
   "source": [
    "<!-- HINT 4.1 -->\n",
    "Remember that arrays are zero-indexed, so you can access the first element like this: <span class=\"girk\">hours_array[0]</span>."
   ]
  },
  {
   "cell_type": "code",
   "execution_count": 17,
   "metadata": {},
   "outputs": [
    {
     "name": "stdout",
     "output_type": "stream",
     "text": [
      "Select the first element of hours_array.\n"
     ]
    }
   ],
   "source": [
    "## TEST 4.1\n",
    "search1 = re.search(\"hours_array\\[\\s*?1\\s*?\\]\", In[16])\n",
    "if search1:\n",
    "    print(\"The first element of an array has index 0, not index 1.\")\n",
    "\n",
    "search2 = re.search(\"pay_array\\[\", In[16])\n",
    "if search2:\n",
    "    print(\"Get the first element of hours_array, not pay_array.\")\n",
    "    \n",
    "search3 = re.search(\"pay_roll\\[\", In[16])\n",
    "if search3:\n",
    "    print(\"Get the first element of hours_array, not payroll.\")\n",
    "\n",
    "search4 = re.search(\"hours_array\\[\\s*?0\\s*?\\]\", In[16])\n",
    "if not search4 and not search2 and not search1 and not search3:\n",
    "    print(\"Select the first element of hours_array.\")\n",
    "    \n",
    "if search4 and not search1 and not search2 and not search3:\n",
    "    print(\"K44: Great job! Indexing of 1d arrays is the same as for lists.\")"
   ]
  },
  {
   "cell_type": "markdown",
   "metadata": {},
   "source": [
    "<!-- TASK 4.2 -->\n",
    "Now access the first row of <span class=\"girk\">payroll</span>."
   ]
  },
  {
   "cell_type": "markdown",
   "metadata": {},
   "source": [
    "<!-- HINT 4.2 -->\n",
    "If you think of the <span class=\"girk\">payroll</span> array as a list of lists, the first row is the first element of the master list, so you can view it like this: <span class=\"girk\">payroll[0]</span>."
   ]
  },
  {
   "cell_type": "code",
   "execution_count": 22,
   "metadata": {},
   "outputs": [
    {
     "name": "stdout",
     "output_type": "stream",
     "text": [
      "K44: You got it!\n"
     ]
    }
   ],
   "source": [
    "## TEST 4.2\n",
    "search1 = re.search(\"pay_array\\[\", In[21])\n",
    "if search1:\n",
    "    print(\"Get the first row of payroll, not pay_array.\")\n",
    "\n",
    "search2 = re.search(\"payroll\\[\\s*?1\\s*?\\]\", In[21])\n",
    "if search2:\n",
    "    print(\"The first row of payroll has index 0, not index 1.\")\n",
    "\n",
    "search3 = re.search(\"payroll\\[\\s*?0\\s*?\\]\\[\", In[21])\n",
    "if search3:\n",
    "    print(\"Access the entire first row, not an element in that row.\")\n",
    "    \n",
    "search4 = re.search(\"payroll\\[\\s*?0\\s*?\\]\", In[21])\n",
    "if not search4:\n",
    "    print(\"Get the first row of payroll.\")\n",
    "    \n",
    "if search4 and not search1 and not search2 and not search3:\n",
    "    print(\"K44: You got it!\")"
   ]
  },
  {
   "cell_type": "markdown",
   "metadata": {},
   "source": [
    "<!-- TASK 4.3 -->\n",
    "Now, print just the first element of the first row of <span class=\"girk\">payroll</span>."
   ]
  },
  {
   "cell_type": "markdown",
   "metadata": {},
   "source": [
    "<!-- HINT 4.3 -->\n",
    "You'll need two sets of square brackets. In the first, put the index of the row you want to access, and in the second, the index of the column."
   ]
  },
  {
   "cell_type": "code",
   "execution_count": 20,
   "metadata": {},
   "outputs": [
    {
     "name": "stdout",
     "output_type": "stream",
     "text": [
      "K44: Very good!\n"
     ]
    }
   ],
   "source": [
    "## TEST 4.3\n",
    "search = re.search(\"payroll\\[\\s*?0(.+){1,5}0\\s*?\\]\", In[19])\n",
    "if not search:\n",
    "    print(\"Access the first element of the first row of payroll.\")\n",
    "else:\n",
    "    print(\"K44: Very good!\")"
   ]
  },
  {
   "cell_type": "markdown",
   "metadata": {},
   "source": [
    "<!-- TASK 4.4 -->\n",
    "Get the second element of the third row of <span class=\"girk\">payroll</span>."
   ]
  },
  {
   "cell_type": "markdown",
   "metadata": {},
   "source": [
    "<!-- HINT 4.4 -->\n",
    "Remember, zero-indexing means that the second element of the row has index 1 rather than 2, and the third row has index 2, not 3."
   ]
  },
  {
   "cell_type": "code",
   "execution_count": 23,
   "metadata": {},
   "outputs": [
    {
     "name": "stdout",
     "output_type": "stream",
     "text": [
      "K44: Nailed it!\n"
     ]
    }
   ],
   "source": [
    "## TEST 4.4\n",
    "search1 = re.search(\"payroll\\[\\s*?[013456]\\s*?\\]\\[\\s*?1\\s*?\\]\", In[21])\n",
    "if search1:\n",
    "    print(\"The row index doesn't look quite right.\")\n",
    "search2 = re.search(\"payroll\\[\\s*?2\\s*?\\]\\[\\s*?0\\s*?\\]\", In[21])\n",
    "if search2:\n",
    "    print(\"The column index doesn't look quite right.\")\n",
    "search3 = re.search(\"payroll\\[\\s*?2(.){1,5}1\\s*?\\]\", In[21])\n",
    "if not search3 and not search1 and not search2:\n",
    "    print(\"That's not the right element.\")\n",
    "if search3:\n",
    "    print(\"K44: Nailed it!\")"
   ]
  },
  {
   "cell_type": "markdown",
   "metadata": {},
   "source": [
    "<!-- TASK 4.5 -->\n",
    "Rather than using two sets of square brackets, you can use just a single set, with the row and column values separated by a comma. Select the first element of the fourth row of <span class=\"girk\">payroll</span> using a single set of brackets and a comma."
   ]
  },
  {
   "cell_type": "markdown",
   "metadata": {},
   "source": [
    "<!-- HINT 4.5 -->\n",
    "Try <span class=\"girk\">payroll[3,0]</span>."
   ]
  },
  {
   "cell_type": "code",
   "execution_count": 38,
   "metadata": {},
   "outputs": [
    {
     "name": "stdout",
     "output_type": "stream",
     "text": [
      "Select the element using a comma to separate row and column indices.\n"
     ]
    }
   ],
   "source": [
    "## TEST 4.5\n",
    "search1 = re.search(\"payroll\\[\\s*?3\\s*?\\]\", In[36])\n",
    "if search1:\n",
    "    print(\"Select the element using a comma to separate row and column indices.\")\n",
    "search2 = re.search(\"payroll\\[\\s*?3\\s*?,\\s*?0\\s*?\\]\", In[36])\n",
    "if not search2 and not search1:\n",
    "    print(\"That's not the right element.\")\n",
    "if search2 and not search1:\n",
    "    print(\"K44: You got it!\")"
   ]
  },
  {
   "cell_type": "markdown",
   "metadata": {},
   "source": [
    "<!-- TITLE for 5 -->\n",
    "## Selecting a Range of Elements"
   ]
  },
  {
   "cell_type": "markdown",
   "metadata": {},
   "source": [
    "<!-- CONCEPT for 5 -->\n",
    "You may be familiar with the method for selecting a range of elements from a list using a colon (<span class=\"girk\">:</span>). The same logic also applies to <span class=\"girk\">NumPy</span> arrays, where the selected range includes the element to the left of the <span class=\"girk\">:</span> and goes up to, but not including the element to the right. For instance, <span class=\"girk\">my_array[1:4]</span> includes the elements at indices 1, 2, and 3, but not 4.\n",
    "\n",
    "In a two-dimensional array, you can combine this notation with the logic for selecting rows or columns to select ranges of rows or ranges of columns. However, be aware that using a comma to separate ranges of rows and columns is often more straight-forward than using pairs of square brackets to narrow down your selection to the right subset of elements."
   ]
  },
  {
   "cell_type": "code",
   "execution_count": null,
   "metadata": {
    "collapsed": true
   },
   "outputs": [],
   "source": [
    "## STARTER CODE for 5\n",
    "hours_array = np.array([ 38.5,  40. ,  35. ,  40. ,  25. ,  41.5,  45. ])\n",
    "pay_array = np.array([18.00, 19.25, 18.00, 19.25, 22.50, 18.50, 20.25])\n",
    "\n",
    "payroll = np.array([[ 38.5 ,  18.  ],\n",
    "                   [ 40.  ,  19.25],\n",
    "                   [ 35.  ,  18.  ],\n",
    "                   [ 40.  ,  19.25],\n",
    "                   [ 25.  ,  22.5 ],\n",
    "                   [ 41.5 ,  18.5 ],\n",
    "                   [ 45.  ,  20.25]])"
   ]
  },
  {
   "cell_type": "code",
   "execution_count": 30,
   "metadata": {
    "collapsed": true
   },
   "outputs": [],
   "source": [
    "## SOLUTION CODE for 5\n",
    "hours_array = np.array([ 38.5,  40. ,  35. ,  40. ,  25. ,  41.5,  45. ])\n",
    "pay_array = np.array([18.00, 19.25, 18.00, 19.25, 22.50, 18.50, 20.25])\n",
    "\n",
    "payroll = np.array([[ 38.5 ,  18.  ],\n",
    "                   [ 40.  ,  19.25],\n",
    "                   [ 35.  ,  18.  ],\n",
    "                   [ 40.  ,  19.25],\n",
    "                   [ 25.  ,  22.5 ],\n",
    "                   [ 41.5 ,  18.5 ],\n",
    "                   [ 45.  ,  20.25]])\n",
    "hours_array[0:3]\n",
    "first_two_employees = payroll[0:2]\n",
    "hours = payroll[:,0]\n",
    "third_fourth_hours = payroll[2:4,0]\n",
    "third_fourth_hours\n",
    "pay_only = payroll[:, 1]"
   ]
  },
  {
   "cell_type": "code",
   "execution_count": 206,
   "metadata": {},
   "outputs": [
    {
     "data": {
      "text/plain": [
       "array([ 18.  ,  19.25,  18.  ,  19.25,  22.5 ,  18.5 ,  20.25])"
      ]
     },
     "execution_count": 206,
     "metadata": {},
     "output_type": "execute_result"
    }
   ],
   "source": [
    "pay_only"
   ]
  },
  {
   "cell_type": "markdown",
   "metadata": {},
   "source": [
    "<!-- TASK 5.1 -->\n",
    "Print the first three elements of the <span class=\"girk\">hours_array</span> by selecting a range."
   ]
  },
  {
   "cell_type": "markdown",
   "metadata": {},
   "source": [
    "<!-- HINT 5.1 -->\n",
    "To select the first three elements, you'll need the values at indices 0, 1, and 2, but not including 3. The range should look like this <span class=\"girk\">[0:3]</span>."
   ]
  },
  {
   "cell_type": "code",
   "execution_count": 28,
   "metadata": {},
   "outputs": [
    {
     "name": "stdout",
     "output_type": "stream",
     "text": [
      "K44: That's right!\n"
     ]
    }
   ],
   "source": [
    "## TEST 5.1\n",
    "search1 = re.search(\"pay_array\\[\", In[27])\n",
    "if search1:\n",
    "    print(\"Select the first three elements of hours_array, not pay_array.\")\n",
    "search2 = re.search(\"payroll\\[(.){1,2}3\", In[27])\n",
    "if search2:\n",
    "    print(\"Select the first three elements of hours_array, not payroll.\")\n",
    "search3 = re.search(\"hours_array\\[\\s*?0?\\s*?:\\s*?3\\s*?\\]\", In[27])\n",
    "if not search3:\n",
    "    print(\"Select the first three elements of hours_array.\")\n",
    "if search3:\n",
    "    print(\"K44: That's right!\")"
   ]
  },
  {
   "cell_type": "markdown",
   "metadata": {},
   "source": [
    "<!-- TASK 5.2 -->\n",
    "Select the number of hours worked as well as earnings from <span class=\"girk\">payroll</span> for the first two employees. Save the selection to the variable <span class=\"girk\">first_two_employees</span>."
   ]
  },
  {
   "cell_type": "markdown",
   "metadata": {},
   "source": [
    "<!-- HINT 5.2 -->\n",
    "The data for the first two employees are located at row indices 0 and 1, so you'll need to select rows <span class=\"girk\">[0:2]</span>."
   ]
  },
  {
   "cell_type": "code",
   "execution_count": 17,
   "metadata": {},
   "outputs": [
    {
     "name": "stdout",
     "output_type": "stream",
     "text": [
      "name 'first_two_employees' is not defined\n"
     ]
    }
   ],
   "source": [
    "## TEST 5.2\n",
    "try:\n",
    "    first_two_employees\n",
    "    assert isinstance(first_two_employees, np.ndarray), \"Please create the array first_two_employees.\"\n",
    "    assert first_two_employees.shape[0] == 2, \"You should select only two rows.\"\n",
    "    assert first_two_employees.shape[1] == 2, \"You should select both columns.\"\n",
    "    assert first_two_employees[0][0] == payroll[0][0], \"This is not the correct range.\"\n",
    "    print(\"K44: Great job! You made a 2x2 array containing hours and earnings for two employees.\")\n",
    "except (AssertionError, NameError) as e:\n",
    "    print(e.args[0])"
   ]
  },
  {
   "cell_type": "markdown",
   "metadata": {},
   "source": [
    "<!-- TASK 5.3 -->\n",
    "Now, select only the hours worked for the third and fourth employees in <span class=\"girk\">payroll</span>. Assign this range to the variable <span class=\"girk\">third_fourth_hours</span>."
   ]
  },
  {
   "cell_type": "markdown",
   "metadata": {},
   "source": [
    "<!-- HINT 5.3 -->\n",
    "The third and fourth employees' data is located in row at indices 2 and 3, and since you're only interested in hours worked, the column index of interest is 0. You'll want to use the comma method here: <span class=\"girk\">payroll[2:4,0]</span>.\n",
    "\n",
    "If you try <span class=\"girk\">payroll[2:4][0]</span>, you'll end up with only the first element (the row containing the third employee's data) of the 2x2 array containing hours and pay for the third and fourth employees."
   ]
  },
  {
   "cell_type": "code",
   "execution_count": 18,
   "metadata": {},
   "outputs": [
    {
     "name": "stdout",
     "output_type": "stream",
     "text": [
      "name 'third_fourth_hours' is not defined\n"
     ]
    }
   ],
   "source": [
    "## TEST\n",
    "try:\n",
    "    third_fourth_hours\n",
    "    assert isinstance(third_fourth_hours, np.ndarray), \"Please create the array third_fourth_hours.\"\n",
    "    assert not third_fourth_hours.shape == (2,1), \"The third_fourth_hours array should only be one-dimensional.\"\n",
    "    assert len(third_fourth_hours) == 2, \"The third_fourth_hours array should contain 2 rows.\"\n",
    "    assert third_fourth_hours[0] == 35.0, \"The third_fourth_hours array does not contain the correct values.\"\n",
    "    assert third_fourth_hours.shape == (2,), \"The third_fourth_hours_array does not have the correct dimensions.\"\n",
    "    print(\"K44: Great job! That was tricky!\")\n",
    "except (AssertionError, NameError) as e:\n",
    "    print(e.args[0])"
   ]
  },
  {
   "cell_type": "markdown",
   "metadata": {},
   "source": [
    "<!-- TASK 5.4 -->\n",
    "From <span class=\"girk\">payroll</span>, select the pay column for all employees and save the values in an array called <span class=\"girk\">pay_only</span>."
   ]
  },
  {
   "cell_type": "markdown",
   "metadata": {},
   "source": [
    "<!-- HINT 5.4 -->\n",
    "Since you're interested in all rows, the value to the left of the comma can be <span class=\"girk\">:</span>, and the value to the right should be <span class=\"girk\">1</span> because you're only interested in the second column."
   ]
  },
  {
   "cell_type": "code",
   "execution_count": 31,
   "metadata": {},
   "outputs": [
    {
     "name": "stdout",
     "output_type": "stream",
     "text": [
      "K44: Excellent work!\n"
     ]
    }
   ],
   "source": [
    "## TEST 5.4\n",
    "try:\n",
    "    pay_only\n",
    "    assert isinstance(pay_only, np.ndarray), \"Please create the array pay_only.\"\n",
    "    assert not pay_only.shape == (7,1), \"The pay_only array should have only one dimension.\"\n",
    "    assert pay_only.shape[0] == 7, \"Select all the rows from payroll.\"\n",
    "    assert pay_only.shape == (7,), \"The pay_only array does not have the correct dimensions.\"\n",
    "    assert pay_only[0] == payroll[0][1], \"The pay_only array does not contain the correct data.\"\n",
    "    print(\"K44: Excellent work!\")\n",
    "except (AssertionError, NameError) as e:\n",
    "    print(e.args[0])"
   ]
  },
  {
   "cell_type": "markdown",
   "metadata": {},
   "source": [
    "<!-- TITLE 6 -->\n",
    "## Boolean Indexing"
   ]
  },
  {
   "cell_type": "markdown",
   "metadata": {},
   "source": [
    "<!-- CONCEPT 6 -->\n",
    "Another way to select subsets of an array is with Boolean indexing. Using a mathematical expression, like an inequality, with an array assesses the truth value of each element for that expression, and returns an array full of <span class=\"girk\">True</span> and <span class=\"girk\">False</span> values. If the element at a particular index location returns <span class=\"girk\">True</span>, then the value of the corresponding index in the resulting Boolean array will be <span class=\"girk\">True</span> as well. You can use this array to create a new shorter array containing only values of the original that align with <span class=\"girk\">True</span>.\n",
    "\n",
    "For example, if you have an array of integers, <span class=\"girk\">my_array</span>, you could make a subset of all values less than 10 with the following syntax: <span class=\"girk\">my_array[my_array < 10]</span>."
   ]
  },
  {
   "cell_type": "code",
   "execution_count": null,
   "metadata": {
    "collapsed": true
   },
   "outputs": [],
   "source": [
    "## STARTER CODE for 6\n",
    "hours_array = np.array([ 38.5,  40. ,  35. ,  40. ,  25. ,  41.5,  45. ])\n",
    "pay_array = np.array([18.00, 19.25, 18.00, 19.25, 22.50, 18.50, 20.25])\n",
    "\n",
    "payroll = np.array([[ 38.5 ,  18.  ],\n",
    "                   [ 40.  ,  19.25],\n",
    "                   [ 35.  ,  18.  ],\n",
    "                   [ 40.  ,  19.25],\n",
    "                   [ 25.  ,  22.5 ],\n",
    "                   [ 41.5 ,  18.5 ],\n",
    "                   [ 45.  ,  20.25]])"
   ]
  },
  {
   "cell_type": "code",
   "execution_count": 10,
   "metadata": {
    "collapsed": true
   },
   "outputs": [],
   "source": [
    "## SOLUTION for 6\n",
    "hours_array = np.array([ 38.5,  40. ,  35. ,  40. ,  25. ,  41.5,  45. ])\n",
    "pay_array = np.array([18.00, 19.25, 18.00, 19.25, 22.50, 18.50, 20.25])\n",
    "\n",
    "payroll = np.array([[ 38.5 ,  18.  ],\n",
    "                   [ 40.  ,  19.25],\n",
    "                   [ 35.  ,  18.  ],\n",
    "                   [ 40.  ,  19.25],\n",
    "                   [ 25.  ,  22.5 ],\n",
    "                   [ 41.5 ,  18.5 ],\n",
    "                   [ 45.  ,  20.25]])\n",
    "less_than_40 = hours_array[hours_array < 40]\n",
    "greater_than_20 = payroll[payroll[:,1] > 20]\n",
    "multiple_of_10 = payroll[payroll[:,0] % 10 == 0]"
   ]
  },
  {
   "cell_type": "markdown",
   "metadata": {},
   "source": [
    "<!-- TASK 6.1 -->\n",
    "Generate a Boolean array corresponding to all values that are less than 40 in <span class=\"girk\">hours_array</span>. You don't have to save it or assign it to a variable."
   ]
  },
  {
   "cell_type": "markdown",
   "metadata": {},
   "source": [
    "<!-- HINT 6.1 -->\n",
    "You can do this with the inequality <span class=\"girk\">hours_array < 40</span>."
   ]
  },
  {
   "cell_type": "code",
   "execution_count": 17,
   "metadata": {},
   "outputs": [
    {
     "name": "stdout",
     "output_type": "stream",
     "text": [
      "Don't use square brackets to subset the array just yet! Print the Boolean array first.\n"
     ]
    }
   ],
   "source": [
    "## TEST 6.1\n",
    "search1 = re.search(\"hours_array\\s*?>\\s*?40\", In[15])\n",
    "if search1:\n",
    "    print(\"Be careful with the direction of the inequality!\")\n",
    "search2 = re.search(\"hours_array\\s*?<\\s*?40\", In[15])\n",
    "search3 = re.search(\"hours_array\\s*?\\[\\s*?hours_array\", In[15])\n",
    "if search3:\n",
    "    print(\"Don't use square brackets to subset the array just yet! Print the Boolean array first.\")\n",
    "if search2 and not search3:\n",
    "    print(\"K44: Great job! Notice that the True and False values align with whether the values in hours_array are greater or less than 40.\")"
   ]
  },
  {
   "cell_type": "markdown",
   "metadata": {},
   "source": [
    "<!-- TASK 6.2 -->\n",
    "Now that you've created a Boolean array, use it to subset <span class=\"girk\">hours_array</span> and return an array of only those values less than 40. Assign the result to <span class=\"girk\">less_than_40</span>, and view its contents."
   ]
  },
  {
   "cell_type": "markdown",
   "metadata": {},
   "source": [
    "<!-- HINT 6.2 -->\n",
    "You can assign <span class=\"girk\">less_than_40 = hours_array[hours_array < 40]</span>."
   ]
  },
  {
   "cell_type": "code",
   "execution_count": 31,
   "metadata": {},
   "outputs": [
    {
     "name": "stdout",
     "output_type": "stream",
     "text": [
      "K44: Very good! Notice that the less_than_40 array contains only 3 values, and they're all less than 40!\n"
     ]
    }
   ],
   "source": [
    "## TEST 6.2\n",
    "search1 = re.search(\"payroll\\[\\s*?hours_\", In[30])\n",
    "search2 = re.search(\"pay_array\\[\\s*?hours_\", In[30])\n",
    "if search1 or search2:\n",
    "    print(\"You should be indexing hours_array.\")\n",
    "try:\n",
    "    less_than_40\n",
    "    assert isinstance(less_than_40, np.ndarray), \"Please create the array less_than_40.\"\n",
    "    assert less_than_40[0] == 38.5, \"The values of less_than_40 have not been assigned correctly.\"\n",
    "    print(\"K44: Very good! Notice that the less_than_40 array contains only 3 values, and they're all less than 40!\")\n",
    "except (NameError, AssertionError) as e:\n",
    "    print(e.args[0])"
   ]
  },
  {
   "cell_type": "markdown",
   "metadata": {},
   "source": [
    "<!-- TASK 6.3 -->\n",
    "Create an subset of <span class=\"girk\">payroll</span> containing only rows for which pay rate is greater than $20.00, and name the resulting array <span class=\"girk\">greater_than_20</span>."
   ]
  },
  {
   "cell_type": "markdown",
   "metadata": {},
   "source": [
    "<!-- HINT 6.3 -->\n",
    "It helps to build the correct inequality first, and then surround it by brackets and use it to subset the original. The right inequality in this case is <span class=\"girk\">payroll[:,1] > 20</span> because you're interested in any row, but only if the second column is greater than 20."
   ]
  },
  {
   "cell_type": "code",
   "execution_count": 48,
   "metadata": {},
   "outputs": [
    {
     "name": "stdout",
     "output_type": "stream",
     "text": [
      "K44: You got it! Check out the second column to see that the values there are both greater than 20.\n"
     ]
    }
   ],
   "source": [
    "## TEST 6.3\n",
    "try:\n",
    "    assert isinstance(greater_than_20, np.ndarray), \"Please create the array greater_than_20.\"\n",
    "    assert not True in greater_than_20, \"greater_than_20 should contain actual values, not Booleans.\"\n",
    "    assert greater_than_20.shape[0] == 2, \"The array greater_than_20 should contain 2 rows.\"\n",
    "    assert greater_than_20.shape[1] == 2, \"The array greater_than_20 should contain both columns.\"\n",
    "    print(\"K44: You got it! Check out the second column to see that the values there are both greater than 20.\")\n",
    "except (NameError, AssertionError) as e:\n",
    "    print(e.args[0])"
   ]
  },
  {
   "cell_type": "markdown",
   "metadata": {},
   "source": [
    "<!-- TASK 6.4 -->\n",
    "Create a subset of <span class=\"girk\">payroll</span> consisting only of rows where the number of hours worked is a multiple of 10 (e.g. 40.0, not 40.5). Name this array <span class=\"girk\">multiple_of_10</span>."
   ]
  },
  {
   "cell_type": "markdown",
   "metadata": {},
   "source": [
    "<!-- HINT 6.4 -->\n",
    "The modulo function, <span class=\"girk\">%</span> returns the remainder of a division operation. If a number x is divisible by number y, x % y will equal 0. You can use this criteria to subset <span class=\"girk\">payroll</span>."
   ]
  },
  {
   "cell_type": "code",
   "execution_count": 51,
   "metadata": {},
   "outputs": [
    {
     "name": "stdout",
     "output_type": "stream",
     "text": [
      "K44: Great work!\n"
     ]
    }
   ],
   "source": [
    "## TEST 6.4\n",
    "try:\n",
    "    multiple_of_10\n",
    "    assert isinstance(multiple_of_10, np.ndarray), \"Please create the array multiple_of_10.\"\n",
    "    assert not multiple_of_10.shape[0] < 2, \"You haven't selected enough rows.\"\n",
    "    assert not multiple_of_10.shape[1] > 2, \"You've selected too many rows.\"\n",
    "    assert multiple_of_10.shape[1] == 2, \"The array multiple_of_10 should contain both columns.\"\n",
    "    assert multiple_of_10[0][0] == 40.0 and multiple_of_10[0][1] == 19.25, \"The values in multiple_of_10 are not correct.\"\n",
    "    print(\"K44: Great work!\")\n",
    "except (NameError, AssertionError) as e:\n",
    "    print(e.args[0])"
   ]
  },
  {
   "cell_type": "markdown",
   "metadata": {
    "collapsed": true
   },
   "source": [
    "manipulate an array to use statistics\n",
    "mean, median, corrcoef, std, sum, sort\n",
    "- forcing a single datatype makes it much faster than regular python"
   ]
  },
  {
   "cell_type": "code",
   "execution_count": 6,
   "metadata": {},
   "outputs": [
    {
     "name": "stdout",
     "output_type": "stream",
     "text": [
      "   0  1\n",
      "0  1  3\n",
      "1  2  4\n"
     ]
    }
   ],
   "source": [
    "import pandas as pd\n",
    "\n",
    "test = pd.DataFrame([[1,3],[2,4]])\n",
    "print(test)"
   ]
  },
  {
   "cell_type": "code",
   "execution_count": 20,
   "metadata": {},
   "outputs": [
    {
     "data": {
      "text/html": [
       "<img src=\"http://www.readersdigest.ca/wp-content/uploads/2011/01/4-ways-cheer-up-depressed-cat.jpg\" style='width:600px'>"
      ],
      "text/plain": [
       "<IPython.core.display.HTML object>"
      ]
     },
     "metadata": {},
     "output_type": "display_data"
    }
   ],
   "source": [
    "%%html\n",
    "<img src=\"http://www.readersdigest.ca/wp-content/uploads/2011/01/4-ways-cheer-up-depressed-cat.jpg\" style='width:600px'>"
   ]
  },
  {
   "cell_type": "code",
   "execution_count": 19,
   "metadata": {},
   "outputs": [
    {
     "data": {
      "text/html": [
       "<video  controls style='width:600px'>\n",
       "  <source src=\"./assets/test.mov\" type=\"video/mp4\">\n",
       "</video>"
      ],
      "text/plain": [
       "<IPython.core.display.HTML object>"
      ]
     },
     "metadata": {},
     "output_type": "display_data"
    }
   ],
   "source": [
    "%%html\n",
    "<video  controls style='width:600px'>\n",
    "  <source src=\"./assets/test.mov\" type=\"video/mp4\">\n",
    "</video>"
   ]
  },
  {
   "cell_type": "code",
   "execution_count": 7,
   "metadata": {},
   "outputs": [
    {
     "name": "stdout",
     "output_type": "stream",
     "text": [
      "/Users/timhogan/Documents/datastar/dash_courses\r\n"
     ]
    }
   ],
   "source": []
  },
  {
   "cell_type": "code",
   "execution_count": null,
   "metadata": {
    "collapsed": true
   },
   "outputs": [],
   "source": []
  }
 ],
 "metadata": {
  "kernelspec": {
   "display_name": "Python 2",
   "language": "python",
   "name": "python2"
  },
  "language_info": {
   "codemirror_mode": {
    "name": "ipython",
    "version": 2
   },
   "file_extension": ".py",
   "mimetype": "text/x-python",
   "name": "python",
   "nbconvert_exporter": "python",
   "pygments_lexer": "ipython2",
   "version": "2.7.13"
  }
 },
 "nbformat": 4,
 "nbformat_minor": 2
}
